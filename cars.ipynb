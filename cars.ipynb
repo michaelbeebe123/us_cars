{
 "cells": [
  {
   "cell_type": "markdown",
   "source": [
    "# TASKS:\n",
    "\n",
    "1.) FIND THE OVERALL BREAKDOWN OF THE CAR BRANDS\n",
    "\n",
    "2.) FIND THE AVERAGE PRICE FOR EACH BRAND\n",
    "\n",
    "3.) FIND DISTRIBUTION OF COLORS BY STATE\n",
    "\n",
    "4.) FIND COLORS BY STATE\n",
    "\n",
    "5.) FIND OVERALL DISTRIBUTION OF PRICE\n",
    "\n",
    "6.) FIND DISTRIBUTION OF PRICE BY YEAR (2015 - 2020)\n",
    "\n",
    "7.) FIND DISTRIBUTION OF PRICE BY COLOR\n",
    "\n",
    "8.) CREATE A MODEL THAT PREDICTS PRICE\n",
    "\n",
    "---"
   ],
   "metadata": {
    "collapsed": false,
    "pycharm": {
     "name": "#%% md\n"
    }
   }
  },
  {
   "cell_type": "markdown",
   "source": [
    "# DATAFRAME GUIDE"
   ],
   "metadata": {
    "collapsed": false,
    "pycharm": {
     "name": "#%% md\n"
    }
   }
  },
  {
   "cell_type": "markdown",
   "source": [
    "IMPORTING LIBRARIES"
   ],
   "metadata": {
    "collapsed": false,
    "pycharm": {
     "name": "#%% md\n"
    }
   }
  },
  {
   "cell_type": "code",
   "execution_count": 97,
   "metadata": {
    "collapsed": true,
    "pycharm": {
     "name": "#%%\n"
    }
   },
   "outputs": [],
   "source": [
    "import pandas as pd\n",
    "import matplotlib.pyplot as plt\n",
    "import numpy as np\n",
    "import seaborn as sns\n",
    "plt.style.use('fivethirtyeight')"
   ]
  },
  {
   "cell_type": "markdown",
   "source": [
    "CHECKING OUT THE INITIAL DATA"
   ],
   "metadata": {
    "collapsed": false,
    "pycharm": {
     "name": "#%% md\n"
    }
   }
  },
  {
   "cell_type": "code",
   "execution_count": 98,
   "outputs": [
    {
     "data": {
      "text/plain": "   price      brand    model  year   title_status   mileage   color  \\\n0   6300     toyota  cruiser  2008  clean vehicle  274117.0   black   \n1   2899       ford       se  2011  clean vehicle  190552.0  silver   \n2   5350      dodge      mpv  2018  clean vehicle   39590.0  silver   \n3  25000       ford     door  2014  clean vehicle   64146.0    blue   \n4  27700  chevrolet     1500  2018  clean vehicle    6654.0     red   \n\n                   vin        lot       state country      condition  \n0    jtezu11f88k007763  159348797  new jersey     usa   10 days left  \n1    2fmdk3gc4bbb02217  166951262   tennessee     usa    6 days left  \n2    3c4pdcgg5jt346413  167655728     georgia     usa    2 days left  \n3    1ftfw1et4efc23745  167753855    virginia     usa  22 hours left  \n4    3gcpcrec2jg473991  167763266     florida     usa  22 hours left  ",
      "text/html": "<div>\n<style scoped>\n    .dataframe tbody tr th:only-of-type {\n        vertical-align: middle;\n    }\n\n    .dataframe tbody tr th {\n        vertical-align: top;\n    }\n\n    .dataframe thead th {\n        text-align: right;\n    }\n</style>\n<table border=\"1\" class=\"dataframe\">\n  <thead>\n    <tr style=\"text-align: right;\">\n      <th></th>\n      <th>price</th>\n      <th>brand</th>\n      <th>model</th>\n      <th>year</th>\n      <th>title_status</th>\n      <th>mileage</th>\n      <th>color</th>\n      <th>vin</th>\n      <th>lot</th>\n      <th>state</th>\n      <th>country</th>\n      <th>condition</th>\n    </tr>\n  </thead>\n  <tbody>\n    <tr>\n      <th>0</th>\n      <td>6300</td>\n      <td>toyota</td>\n      <td>cruiser</td>\n      <td>2008</td>\n      <td>clean vehicle</td>\n      <td>274117.0</td>\n      <td>black</td>\n      <td>jtezu11f88k007763</td>\n      <td>159348797</td>\n      <td>new jersey</td>\n      <td>usa</td>\n      <td>10 days left</td>\n    </tr>\n    <tr>\n      <th>1</th>\n      <td>2899</td>\n      <td>ford</td>\n      <td>se</td>\n      <td>2011</td>\n      <td>clean vehicle</td>\n      <td>190552.0</td>\n      <td>silver</td>\n      <td>2fmdk3gc4bbb02217</td>\n      <td>166951262</td>\n      <td>tennessee</td>\n      <td>usa</td>\n      <td>6 days left</td>\n    </tr>\n    <tr>\n      <th>2</th>\n      <td>5350</td>\n      <td>dodge</td>\n      <td>mpv</td>\n      <td>2018</td>\n      <td>clean vehicle</td>\n      <td>39590.0</td>\n      <td>silver</td>\n      <td>3c4pdcgg5jt346413</td>\n      <td>167655728</td>\n      <td>georgia</td>\n      <td>usa</td>\n      <td>2 days left</td>\n    </tr>\n    <tr>\n      <th>3</th>\n      <td>25000</td>\n      <td>ford</td>\n      <td>door</td>\n      <td>2014</td>\n      <td>clean vehicle</td>\n      <td>64146.0</td>\n      <td>blue</td>\n      <td>1ftfw1et4efc23745</td>\n      <td>167753855</td>\n      <td>virginia</td>\n      <td>usa</td>\n      <td>22 hours left</td>\n    </tr>\n    <tr>\n      <th>4</th>\n      <td>27700</td>\n      <td>chevrolet</td>\n      <td>1500</td>\n      <td>2018</td>\n      <td>clean vehicle</td>\n      <td>6654.0</td>\n      <td>red</td>\n      <td>3gcpcrec2jg473991</td>\n      <td>167763266</td>\n      <td>florida</td>\n      <td>usa</td>\n      <td>22 hours left</td>\n    </tr>\n  </tbody>\n</table>\n</div>"
     },
     "execution_count": 98,
     "metadata": {},
     "output_type": "execute_result"
    }
   ],
   "source": [
    "# --------------------\n",
    "# CREATING INITIAL DF\n",
    "# --------------------\n",
    "df1 = pd.read_csv('./input/USA_cars_datasets.csv')\n",
    "df1.drop(columns=['Unnamed: 0'],inplace=True,axis=1)\n",
    "df1.isnull().sum()\n",
    "df1.head()"
   ],
   "metadata": {
    "collapsed": false,
    "pycharm": {
     "name": "#%%\n"
    }
   }
  },
  {
   "cell_type": "code",
   "execution_count": 99,
   "outputs": [
    {
     "data": {
      "text/plain": "Index(['price', 'brand', 'model', 'year', 'title_status', 'mileage', 'color',\n       'vin', 'lot', 'state', 'country', 'condition'],\n      dtype='object')"
     },
     "execution_count": 99,
     "metadata": {},
     "output_type": "execute_result"
    }
   ],
   "source": [
    "# ----------\n",
    "# COLUMNS\n",
    "# ----------\n",
    "df1.columns"
   ],
   "metadata": {
    "collapsed": false,
    "pycharm": {
     "name": "#%%\n"
    }
   }
  },
  {
   "cell_type": "code",
   "execution_count": 100,
   "outputs": [
    {
     "data": {
      "text/plain": "price             int64\nbrand            object\nmodel            object\nyear              int64\ntitle_status     object\nmileage         float64\ncolor            object\nvin              object\nlot               int64\nstate            object\ncountry          object\ncondition        object\ndtype: object"
     },
     "execution_count": 100,
     "metadata": {},
     "output_type": "execute_result"
    }
   ],
   "source": [
    "# ------------\n",
    "# DATA TYPES\n",
    "# ------------\n",
    "df1.dtypes"
   ],
   "metadata": {
    "collapsed": false,
    "pycharm": {
     "name": "#%%\n"
    }
   }
  },
  {
   "cell_type": "code",
   "execution_count": 101,
   "outputs": [
    {
     "data": {
      "text/plain": "              price         year       mileage           lot\ncount   2499.000000  2499.000000  2.499000e+03  2.499000e+03\nmean   18767.671469  2016.714286  5.229869e+04  1.676914e+08\nstd    12116.094936     3.442656  5.970552e+04  2.038772e+05\nmin        0.000000  1973.000000  0.000000e+00  1.593488e+08\n25%    10200.000000  2016.000000  2.146650e+04  1.676253e+08\n50%    16900.000000  2018.000000  3.536500e+04  1.677451e+08\n75%    25555.500000  2019.000000  6.347250e+04  1.677798e+08\nmax    84900.000000  2020.000000  1.017936e+06  1.678055e+08",
      "text/html": "<div>\n<style scoped>\n    .dataframe tbody tr th:only-of-type {\n        vertical-align: middle;\n    }\n\n    .dataframe tbody tr th {\n        vertical-align: top;\n    }\n\n    .dataframe thead th {\n        text-align: right;\n    }\n</style>\n<table border=\"1\" class=\"dataframe\">\n  <thead>\n    <tr style=\"text-align: right;\">\n      <th></th>\n      <th>price</th>\n      <th>year</th>\n      <th>mileage</th>\n      <th>lot</th>\n    </tr>\n  </thead>\n  <tbody>\n    <tr>\n      <th>count</th>\n      <td>2499.000000</td>\n      <td>2499.000000</td>\n      <td>2.499000e+03</td>\n      <td>2.499000e+03</td>\n    </tr>\n    <tr>\n      <th>mean</th>\n      <td>18767.671469</td>\n      <td>2016.714286</td>\n      <td>5.229869e+04</td>\n      <td>1.676914e+08</td>\n    </tr>\n    <tr>\n      <th>std</th>\n      <td>12116.094936</td>\n      <td>3.442656</td>\n      <td>5.970552e+04</td>\n      <td>2.038772e+05</td>\n    </tr>\n    <tr>\n      <th>min</th>\n      <td>0.000000</td>\n      <td>1973.000000</td>\n      <td>0.000000e+00</td>\n      <td>1.593488e+08</td>\n    </tr>\n    <tr>\n      <th>25%</th>\n      <td>10200.000000</td>\n      <td>2016.000000</td>\n      <td>2.146650e+04</td>\n      <td>1.676253e+08</td>\n    </tr>\n    <tr>\n      <th>50%</th>\n      <td>16900.000000</td>\n      <td>2018.000000</td>\n      <td>3.536500e+04</td>\n      <td>1.677451e+08</td>\n    </tr>\n    <tr>\n      <th>75%</th>\n      <td>25555.500000</td>\n      <td>2019.000000</td>\n      <td>6.347250e+04</td>\n      <td>1.677798e+08</td>\n    </tr>\n    <tr>\n      <th>max</th>\n      <td>84900.000000</td>\n      <td>2020.000000</td>\n      <td>1.017936e+06</td>\n      <td>1.678055e+08</td>\n    </tr>\n  </tbody>\n</table>\n</div>"
     },
     "execution_count": 101,
     "metadata": {},
     "output_type": "execute_result"
    }
   ],
   "source": [
    "# ------------------\n",
    "# DATA DESCRIPTION\n",
    "# ------------------\n",
    "df1.describe()"
   ],
   "metadata": {
    "collapsed": false,
    "pycharm": {
     "name": "#%%\n"
    }
   }
  },
  {
   "cell_type": "markdown",
   "source": [
    "DATA WRANGLING"
   ],
   "metadata": {
    "collapsed": false
   }
  },
  {
   "cell_type": "code",
   "execution_count": 102,
   "outputs": [
    {
     "data": {
      "text/plain": "0        6300.000000\n1       21666.888259\n2       17781.988426\n3       21666.888259\n4       18669.952862\n            ...     \n2494    12065.820513\n2495    12065.820513\n2496    12065.820513\n2497    12065.820513\n2498    12065.820513\nName: average_price, Length: 2499, dtype: float64"
     },
     "execution_count": 102,
     "metadata": {},
     "output_type": "execute_result"
    }
   ],
   "source": [
    "# -------------------------------------------\n",
    "# CREATING AN AVERAGE PRICE COLUMN BY BRAND\n",
    "# -------------------------------------------\n",
    "df1['average_price'] = df1.groupby('brand')['price'].transform('mean')\n",
    "df1['average_price']"
   ],
   "metadata": {
    "collapsed": false,
    "pycharm": {
     "name": "#%%\n"
    }
   }
  },
  {
   "cell_type": "code",
   "execution_count": 103,
   "outputs": [
    {
     "data": {
      "text/plain": "     price      brand   model  year       title_status   mileage       color  \\\n141      0      dodge     van  2008  salvage insurance  177948.0      orange   \n144      0      dodge    door  2014  salvage insurance  123660.0      silver   \n196      0       ford     mpv  2017      clean vehicle   76858.0       white   \n206     25  chevrolet  vehicl  2020  salvage insurance    7232.0       black   \n209     25   chrysler    door  2005  salvage insurance  151815.0      silver   \n..     ...        ...     ...   ...                ...       ...         ...   \n522      0       ford    door  2008  salvage insurance  145483.0         red   \n530      0  chevrolet    door  2003  salvage insurance  194673.0        gray   \n534     75       ford    door  2007  salvage insurance  154989.0        blue   \n541     25  chevrolet  pickup  2010  salvage insurance  149189.0       white   \n545      0        gmc    door  1993  salvage insurance       0.0  light blue   \n\n                     vin        lot          state country      condition  \\\n141    2d8hn44h88r669549  167756157           utah     usa    2 days left   \n144    1c3cdzab0en111068  167756167           utah     usa    2 days left   \n196    1fbax2cv0hkb32599  167656523          texas     usa    2 days left   \n206    2gnaxkev6l6128374  167756877       kentucky     usa    3 days left   \n209    2c3ja43r35h179032  167757193  massachusetts     usa    3 days left   \n..                   ...        ...            ...     ...            ...   \n522    1fmcu03128kc80487  167357813       oklahoma     usa  17 hours left   \n530    1gndt13s632267445  167650636          texas     usa  17 hours left   \n534    3fahp06z07r118828  167357820       oklahoma     usa  17 hours left   \n541    3gcrkse37ag234620  167650663       colorado     usa  17 hours left   \n545    1gkfk16k5pj701631  167358601       colorado     usa  18 hours left   \n\n     average_price  \n141   17781.988426  \n144   17781.988426  \n196   21666.888259  \n206   18669.952862  \n209   13686.111111  \n..             ...  \n522   21666.888259  \n530   18669.952862  \n534   21666.888259  \n541   18669.952862  \n545   10657.380952  \n\n[67 rows x 13 columns]",
      "text/html": "<div>\n<style scoped>\n    .dataframe tbody tr th:only-of-type {\n        vertical-align: middle;\n    }\n\n    .dataframe tbody tr th {\n        vertical-align: top;\n    }\n\n    .dataframe thead th {\n        text-align: right;\n    }\n</style>\n<table border=\"1\" class=\"dataframe\">\n  <thead>\n    <tr style=\"text-align: right;\">\n      <th></th>\n      <th>price</th>\n      <th>brand</th>\n      <th>model</th>\n      <th>year</th>\n      <th>title_status</th>\n      <th>mileage</th>\n      <th>color</th>\n      <th>vin</th>\n      <th>lot</th>\n      <th>state</th>\n      <th>country</th>\n      <th>condition</th>\n      <th>average_price</th>\n    </tr>\n  </thead>\n  <tbody>\n    <tr>\n      <th>141</th>\n      <td>0</td>\n      <td>dodge</td>\n      <td>van</td>\n      <td>2008</td>\n      <td>salvage insurance</td>\n      <td>177948.0</td>\n      <td>orange</td>\n      <td>2d8hn44h88r669549</td>\n      <td>167756157</td>\n      <td>utah</td>\n      <td>usa</td>\n      <td>2 days left</td>\n      <td>17781.988426</td>\n    </tr>\n    <tr>\n      <th>144</th>\n      <td>0</td>\n      <td>dodge</td>\n      <td>door</td>\n      <td>2014</td>\n      <td>salvage insurance</td>\n      <td>123660.0</td>\n      <td>silver</td>\n      <td>1c3cdzab0en111068</td>\n      <td>167756167</td>\n      <td>utah</td>\n      <td>usa</td>\n      <td>2 days left</td>\n      <td>17781.988426</td>\n    </tr>\n    <tr>\n      <th>196</th>\n      <td>0</td>\n      <td>ford</td>\n      <td>mpv</td>\n      <td>2017</td>\n      <td>clean vehicle</td>\n      <td>76858.0</td>\n      <td>white</td>\n      <td>1fbax2cv0hkb32599</td>\n      <td>167656523</td>\n      <td>texas</td>\n      <td>usa</td>\n      <td>2 days left</td>\n      <td>21666.888259</td>\n    </tr>\n    <tr>\n      <th>206</th>\n      <td>25</td>\n      <td>chevrolet</td>\n      <td>vehicl</td>\n      <td>2020</td>\n      <td>salvage insurance</td>\n      <td>7232.0</td>\n      <td>black</td>\n      <td>2gnaxkev6l6128374</td>\n      <td>167756877</td>\n      <td>kentucky</td>\n      <td>usa</td>\n      <td>3 days left</td>\n      <td>18669.952862</td>\n    </tr>\n    <tr>\n      <th>209</th>\n      <td>25</td>\n      <td>chrysler</td>\n      <td>door</td>\n      <td>2005</td>\n      <td>salvage insurance</td>\n      <td>151815.0</td>\n      <td>silver</td>\n      <td>2c3ja43r35h179032</td>\n      <td>167757193</td>\n      <td>massachusetts</td>\n      <td>usa</td>\n      <td>3 days left</td>\n      <td>13686.111111</td>\n    </tr>\n    <tr>\n      <th>...</th>\n      <td>...</td>\n      <td>...</td>\n      <td>...</td>\n      <td>...</td>\n      <td>...</td>\n      <td>...</td>\n      <td>...</td>\n      <td>...</td>\n      <td>...</td>\n      <td>...</td>\n      <td>...</td>\n      <td>...</td>\n      <td>...</td>\n    </tr>\n    <tr>\n      <th>522</th>\n      <td>0</td>\n      <td>ford</td>\n      <td>door</td>\n      <td>2008</td>\n      <td>salvage insurance</td>\n      <td>145483.0</td>\n      <td>red</td>\n      <td>1fmcu03128kc80487</td>\n      <td>167357813</td>\n      <td>oklahoma</td>\n      <td>usa</td>\n      <td>17 hours left</td>\n      <td>21666.888259</td>\n    </tr>\n    <tr>\n      <th>530</th>\n      <td>0</td>\n      <td>chevrolet</td>\n      <td>door</td>\n      <td>2003</td>\n      <td>salvage insurance</td>\n      <td>194673.0</td>\n      <td>gray</td>\n      <td>1gndt13s632267445</td>\n      <td>167650636</td>\n      <td>texas</td>\n      <td>usa</td>\n      <td>17 hours left</td>\n      <td>18669.952862</td>\n    </tr>\n    <tr>\n      <th>534</th>\n      <td>75</td>\n      <td>ford</td>\n      <td>door</td>\n      <td>2007</td>\n      <td>salvage insurance</td>\n      <td>154989.0</td>\n      <td>blue</td>\n      <td>3fahp06z07r118828</td>\n      <td>167357820</td>\n      <td>oklahoma</td>\n      <td>usa</td>\n      <td>17 hours left</td>\n      <td>21666.888259</td>\n    </tr>\n    <tr>\n      <th>541</th>\n      <td>25</td>\n      <td>chevrolet</td>\n      <td>pickup</td>\n      <td>2010</td>\n      <td>salvage insurance</td>\n      <td>149189.0</td>\n      <td>white</td>\n      <td>3gcrkse37ag234620</td>\n      <td>167650663</td>\n      <td>colorado</td>\n      <td>usa</td>\n      <td>17 hours left</td>\n      <td>18669.952862</td>\n    </tr>\n    <tr>\n      <th>545</th>\n      <td>0</td>\n      <td>gmc</td>\n      <td>door</td>\n      <td>1993</td>\n      <td>salvage insurance</td>\n      <td>0.0</td>\n      <td>light blue</td>\n      <td>1gkfk16k5pj701631</td>\n      <td>167358601</td>\n      <td>colorado</td>\n      <td>usa</td>\n      <td>18 hours left</td>\n      <td>10657.380952</td>\n    </tr>\n  </tbody>\n</table>\n<p>67 rows × 13 columns</p>\n</div>"
     },
     "execution_count": 103,
     "metadata": {},
     "output_type": "execute_result"
    }
   ],
   "source": [
    "# -----------------------------------------------\n",
    "# FINDING OUTLIERS THAT HAVE A PRICE BELOW 100,\n",
    "# 0 IN MANY CASES. THESE OBSERVATIONS ARE\n",
    "# SKEWING THE DATA\n",
    "# -----------------------------------------------\n",
    "df2 = df1[df1['price'] <= 100]\n",
    "df2\n"
   ],
   "metadata": {
    "collapsed": false,
    "pycharm": {
     "name": "#%%\n"
    }
   }
  },
  {
   "cell_type": "code",
   "execution_count": 104,
   "outputs": [
    {
     "name": "stderr",
     "output_type": "stream",
     "text": [
      "/usr/local/lib/python3.7/site-packages/ipykernel_launcher.py:4: SettingWithCopyWarning: \n",
      "A value is trying to be set on a copy of a slice from a DataFrame.\n",
      "Try using .loc[row_indexer,col_indexer] = value instead\n",
      "\n",
      "See the caveats in the documentation: https://pandas.pydata.org/pandas-docs/stable/user_guide/indexing.html#returning-a-view-versus-a-copy\n",
      "  after removing the cwd from sys.path.\n"
     ]
    },
    {
     "data": {
      "text/plain": "            price      brand   model  year       title_status   mileage  \\\n141  17781.988426      dodge     van  2008  salvage insurance  177948.0   \n144  17781.988426      dodge    door  2014  salvage insurance  123660.0   \n196  21666.888259       ford     mpv  2017      clean vehicle   76858.0   \n206  18669.952862  chevrolet  vehicl  2020  salvage insurance    7232.0   \n209  13686.111111   chrysler    door  2005  salvage insurance  151815.0   \n..            ...        ...     ...   ...                ...       ...   \n522  21666.888259       ford    door  2008  salvage insurance  145483.0   \n530  18669.952862  chevrolet    door  2003  salvage insurance  194673.0   \n534  21666.888259       ford    door  2007  salvage insurance  154989.0   \n541  18669.952862  chevrolet  pickup  2010  salvage insurance  149189.0   \n545  10657.380952        gmc    door  1993  salvage insurance       0.0   \n\n          color                  vin        lot          state country  \\\n141      orange    2d8hn44h88r669549  167756157           utah     usa   \n144      silver    1c3cdzab0en111068  167756167           utah     usa   \n196       white    1fbax2cv0hkb32599  167656523          texas     usa   \n206       black    2gnaxkev6l6128374  167756877       kentucky     usa   \n209      silver    2c3ja43r35h179032  167757193  massachusetts     usa   \n..          ...                  ...        ...            ...     ...   \n522         red    1fmcu03128kc80487  167357813       oklahoma     usa   \n530        gray    1gndt13s632267445  167650636          texas     usa   \n534        blue    3fahp06z07r118828  167357820       oklahoma     usa   \n541       white    3gcrkse37ag234620  167650663       colorado     usa   \n545  light blue    1gkfk16k5pj701631  167358601       colorado     usa   \n\n         condition  average_price  \n141    2 days left   17781.988426  \n144    2 days left   17781.988426  \n196    2 days left   21666.888259  \n206    3 days left   18669.952862  \n209    3 days left   13686.111111  \n..             ...            ...  \n522  17 hours left   21666.888259  \n530  17 hours left   18669.952862  \n534  17 hours left   21666.888259  \n541  17 hours left   18669.952862  \n545  18 hours left   10657.380952  \n\n[67 rows x 13 columns]",
      "text/html": "<div>\n<style scoped>\n    .dataframe tbody tr th:only-of-type {\n        vertical-align: middle;\n    }\n\n    .dataframe tbody tr th {\n        vertical-align: top;\n    }\n\n    .dataframe thead th {\n        text-align: right;\n    }\n</style>\n<table border=\"1\" class=\"dataframe\">\n  <thead>\n    <tr style=\"text-align: right;\">\n      <th></th>\n      <th>price</th>\n      <th>brand</th>\n      <th>model</th>\n      <th>year</th>\n      <th>title_status</th>\n      <th>mileage</th>\n      <th>color</th>\n      <th>vin</th>\n      <th>lot</th>\n      <th>state</th>\n      <th>country</th>\n      <th>condition</th>\n      <th>average_price</th>\n    </tr>\n  </thead>\n  <tbody>\n    <tr>\n      <th>141</th>\n      <td>17781.988426</td>\n      <td>dodge</td>\n      <td>van</td>\n      <td>2008</td>\n      <td>salvage insurance</td>\n      <td>177948.0</td>\n      <td>orange</td>\n      <td>2d8hn44h88r669549</td>\n      <td>167756157</td>\n      <td>utah</td>\n      <td>usa</td>\n      <td>2 days left</td>\n      <td>17781.988426</td>\n    </tr>\n    <tr>\n      <th>144</th>\n      <td>17781.988426</td>\n      <td>dodge</td>\n      <td>door</td>\n      <td>2014</td>\n      <td>salvage insurance</td>\n      <td>123660.0</td>\n      <td>silver</td>\n      <td>1c3cdzab0en111068</td>\n      <td>167756167</td>\n      <td>utah</td>\n      <td>usa</td>\n      <td>2 days left</td>\n      <td>17781.988426</td>\n    </tr>\n    <tr>\n      <th>196</th>\n      <td>21666.888259</td>\n      <td>ford</td>\n      <td>mpv</td>\n      <td>2017</td>\n      <td>clean vehicle</td>\n      <td>76858.0</td>\n      <td>white</td>\n      <td>1fbax2cv0hkb32599</td>\n      <td>167656523</td>\n      <td>texas</td>\n      <td>usa</td>\n      <td>2 days left</td>\n      <td>21666.888259</td>\n    </tr>\n    <tr>\n      <th>206</th>\n      <td>18669.952862</td>\n      <td>chevrolet</td>\n      <td>vehicl</td>\n      <td>2020</td>\n      <td>salvage insurance</td>\n      <td>7232.0</td>\n      <td>black</td>\n      <td>2gnaxkev6l6128374</td>\n      <td>167756877</td>\n      <td>kentucky</td>\n      <td>usa</td>\n      <td>3 days left</td>\n      <td>18669.952862</td>\n    </tr>\n    <tr>\n      <th>209</th>\n      <td>13686.111111</td>\n      <td>chrysler</td>\n      <td>door</td>\n      <td>2005</td>\n      <td>salvage insurance</td>\n      <td>151815.0</td>\n      <td>silver</td>\n      <td>2c3ja43r35h179032</td>\n      <td>167757193</td>\n      <td>massachusetts</td>\n      <td>usa</td>\n      <td>3 days left</td>\n      <td>13686.111111</td>\n    </tr>\n    <tr>\n      <th>...</th>\n      <td>...</td>\n      <td>...</td>\n      <td>...</td>\n      <td>...</td>\n      <td>...</td>\n      <td>...</td>\n      <td>...</td>\n      <td>...</td>\n      <td>...</td>\n      <td>...</td>\n      <td>...</td>\n      <td>...</td>\n      <td>...</td>\n    </tr>\n    <tr>\n      <th>522</th>\n      <td>21666.888259</td>\n      <td>ford</td>\n      <td>door</td>\n      <td>2008</td>\n      <td>salvage insurance</td>\n      <td>145483.0</td>\n      <td>red</td>\n      <td>1fmcu03128kc80487</td>\n      <td>167357813</td>\n      <td>oklahoma</td>\n      <td>usa</td>\n      <td>17 hours left</td>\n      <td>21666.888259</td>\n    </tr>\n    <tr>\n      <th>530</th>\n      <td>18669.952862</td>\n      <td>chevrolet</td>\n      <td>door</td>\n      <td>2003</td>\n      <td>salvage insurance</td>\n      <td>194673.0</td>\n      <td>gray</td>\n      <td>1gndt13s632267445</td>\n      <td>167650636</td>\n      <td>texas</td>\n      <td>usa</td>\n      <td>17 hours left</td>\n      <td>18669.952862</td>\n    </tr>\n    <tr>\n      <th>534</th>\n      <td>21666.888259</td>\n      <td>ford</td>\n      <td>door</td>\n      <td>2007</td>\n      <td>salvage insurance</td>\n      <td>154989.0</td>\n      <td>blue</td>\n      <td>3fahp06z07r118828</td>\n      <td>167357820</td>\n      <td>oklahoma</td>\n      <td>usa</td>\n      <td>17 hours left</td>\n      <td>21666.888259</td>\n    </tr>\n    <tr>\n      <th>541</th>\n      <td>18669.952862</td>\n      <td>chevrolet</td>\n      <td>pickup</td>\n      <td>2010</td>\n      <td>salvage insurance</td>\n      <td>149189.0</td>\n      <td>white</td>\n      <td>3gcrkse37ag234620</td>\n      <td>167650663</td>\n      <td>colorado</td>\n      <td>usa</td>\n      <td>17 hours left</td>\n      <td>18669.952862</td>\n    </tr>\n    <tr>\n      <th>545</th>\n      <td>10657.380952</td>\n      <td>gmc</td>\n      <td>door</td>\n      <td>1993</td>\n      <td>salvage insurance</td>\n      <td>0.0</td>\n      <td>light blue</td>\n      <td>1gkfk16k5pj701631</td>\n      <td>167358601</td>\n      <td>colorado</td>\n      <td>usa</td>\n      <td>18 hours left</td>\n      <td>10657.380952</td>\n    </tr>\n  </tbody>\n</table>\n<p>67 rows × 13 columns</p>\n</div>"
     },
     "execution_count": 104,
     "metadata": {},
     "output_type": "execute_result"
    }
   ],
   "source": [
    "# ----------------------------------------------------------------\n",
    "# REPLACING THE df2 PRICES WITH THE AVERAGE PRICE FOR THAT BRAND\n",
    "# ----------------------------------------------------------------\n",
    "df2['price'] = df2['average_price']\n",
    "df2"
   ],
   "metadata": {
    "collapsed": false,
    "pycharm": {
     "name": "#%%\n"
    }
   }
  },
  {
   "cell_type": "code",
   "execution_count": 105,
   "outputs": [],
   "source": [
    "# ---------------------------------------------------------\n",
    "# DROPPING THE ROWS FROM df1 WHERE PRICE IS LESS THAN 100\n",
    "# ---------------------------------------------------------\n",
    "drop_index = df1[df1['price'] <= 100].index\n",
    "df1.drop(drop_index, inplace=True)"
   ],
   "metadata": {
    "collapsed": false,
    "pycharm": {
     "name": "#%%\n"
    }
   }
  },
  {
   "cell_type": "code",
   "execution_count": 106,
   "outputs": [
    {
     "data": {
      "text/plain": "             price      brand    model  year       title_status   mileage  \\\n0      6300.000000     toyota  cruiser  2008      clean vehicle  274117.0   \n1      2899.000000       ford       se  2011      clean vehicle  190552.0   \n2      5350.000000      dodge      mpv  2018      clean vehicle   39590.0   \n3     25000.000000       ford     door  2014      clean vehicle   64146.0   \n4     27700.000000  chevrolet     1500  2018      clean vehicle    6654.0   \n...            ...        ...      ...   ...                ...       ...   \n2494  21666.888259       ford     door  2008  salvage insurance  145483.0   \n2495  18669.952862  chevrolet     door  2003  salvage insurance  194673.0   \n2496  21666.888259       ford     door  2007  salvage insurance  154989.0   \n2497  18669.952862  chevrolet   pickup  2010  salvage insurance  149189.0   \n2498  10657.380952        gmc     door  1993  salvage insurance       0.0   \n\n           color                  vin        lot       state country  \\\n0          black    jtezu11f88k007763  159348797  new jersey     usa   \n1         silver    2fmdk3gc4bbb02217  166951262   tennessee     usa   \n2         silver    3c4pdcgg5jt346413  167655728     georgia     usa   \n3           blue    1ftfw1et4efc23745  167753855    virginia     usa   \n4            red    3gcpcrec2jg473991  167763266     florida     usa   \n...          ...                  ...        ...         ...     ...   \n2494         red    1fmcu03128kc80487  167357813    oklahoma     usa   \n2495        gray    1gndt13s632267445  167650636       texas     usa   \n2496        blue    3fahp06z07r118828  167357820    oklahoma     usa   \n2497       white    3gcrkse37ag234620  167650663    colorado     usa   \n2498  light blue    1gkfk16k5pj701631  167358601    colorado     usa   \n\n          condition  average_price  \n0      10 days left    6300.000000  \n1       6 days left   21666.888259  \n2       2 days left   17781.988426  \n3     22 hours left   21666.888259  \n4     22 hours left   18669.952862  \n...             ...            ...  \n2494  17 hours left   21666.888259  \n2495  17 hours left   18669.952862  \n2496  17 hours left   21666.888259  \n2497  17 hours left   18669.952862  \n2498  18 hours left   10657.380952  \n\n[2499 rows x 13 columns]",
      "text/html": "<div>\n<style scoped>\n    .dataframe tbody tr th:only-of-type {\n        vertical-align: middle;\n    }\n\n    .dataframe tbody tr th {\n        vertical-align: top;\n    }\n\n    .dataframe thead th {\n        text-align: right;\n    }\n</style>\n<table border=\"1\" class=\"dataframe\">\n  <thead>\n    <tr style=\"text-align: right;\">\n      <th></th>\n      <th>price</th>\n      <th>brand</th>\n      <th>model</th>\n      <th>year</th>\n      <th>title_status</th>\n      <th>mileage</th>\n      <th>color</th>\n      <th>vin</th>\n      <th>lot</th>\n      <th>state</th>\n      <th>country</th>\n      <th>condition</th>\n      <th>average_price</th>\n    </tr>\n  </thead>\n  <tbody>\n    <tr>\n      <th>0</th>\n      <td>6300.000000</td>\n      <td>toyota</td>\n      <td>cruiser</td>\n      <td>2008</td>\n      <td>clean vehicle</td>\n      <td>274117.0</td>\n      <td>black</td>\n      <td>jtezu11f88k007763</td>\n      <td>159348797</td>\n      <td>new jersey</td>\n      <td>usa</td>\n      <td>10 days left</td>\n      <td>6300.000000</td>\n    </tr>\n    <tr>\n      <th>1</th>\n      <td>2899.000000</td>\n      <td>ford</td>\n      <td>se</td>\n      <td>2011</td>\n      <td>clean vehicle</td>\n      <td>190552.0</td>\n      <td>silver</td>\n      <td>2fmdk3gc4bbb02217</td>\n      <td>166951262</td>\n      <td>tennessee</td>\n      <td>usa</td>\n      <td>6 days left</td>\n      <td>21666.888259</td>\n    </tr>\n    <tr>\n      <th>2</th>\n      <td>5350.000000</td>\n      <td>dodge</td>\n      <td>mpv</td>\n      <td>2018</td>\n      <td>clean vehicle</td>\n      <td>39590.0</td>\n      <td>silver</td>\n      <td>3c4pdcgg5jt346413</td>\n      <td>167655728</td>\n      <td>georgia</td>\n      <td>usa</td>\n      <td>2 days left</td>\n      <td>17781.988426</td>\n    </tr>\n    <tr>\n      <th>3</th>\n      <td>25000.000000</td>\n      <td>ford</td>\n      <td>door</td>\n      <td>2014</td>\n      <td>clean vehicle</td>\n      <td>64146.0</td>\n      <td>blue</td>\n      <td>1ftfw1et4efc23745</td>\n      <td>167753855</td>\n      <td>virginia</td>\n      <td>usa</td>\n      <td>22 hours left</td>\n      <td>21666.888259</td>\n    </tr>\n    <tr>\n      <th>4</th>\n      <td>27700.000000</td>\n      <td>chevrolet</td>\n      <td>1500</td>\n      <td>2018</td>\n      <td>clean vehicle</td>\n      <td>6654.0</td>\n      <td>red</td>\n      <td>3gcpcrec2jg473991</td>\n      <td>167763266</td>\n      <td>florida</td>\n      <td>usa</td>\n      <td>22 hours left</td>\n      <td>18669.952862</td>\n    </tr>\n    <tr>\n      <th>...</th>\n      <td>...</td>\n      <td>...</td>\n      <td>...</td>\n      <td>...</td>\n      <td>...</td>\n      <td>...</td>\n      <td>...</td>\n      <td>...</td>\n      <td>...</td>\n      <td>...</td>\n      <td>...</td>\n      <td>...</td>\n      <td>...</td>\n    </tr>\n    <tr>\n      <th>2494</th>\n      <td>21666.888259</td>\n      <td>ford</td>\n      <td>door</td>\n      <td>2008</td>\n      <td>salvage insurance</td>\n      <td>145483.0</td>\n      <td>red</td>\n      <td>1fmcu03128kc80487</td>\n      <td>167357813</td>\n      <td>oklahoma</td>\n      <td>usa</td>\n      <td>17 hours left</td>\n      <td>21666.888259</td>\n    </tr>\n    <tr>\n      <th>2495</th>\n      <td>18669.952862</td>\n      <td>chevrolet</td>\n      <td>door</td>\n      <td>2003</td>\n      <td>salvage insurance</td>\n      <td>194673.0</td>\n      <td>gray</td>\n      <td>1gndt13s632267445</td>\n      <td>167650636</td>\n      <td>texas</td>\n      <td>usa</td>\n      <td>17 hours left</td>\n      <td>18669.952862</td>\n    </tr>\n    <tr>\n      <th>2496</th>\n      <td>21666.888259</td>\n      <td>ford</td>\n      <td>door</td>\n      <td>2007</td>\n      <td>salvage insurance</td>\n      <td>154989.0</td>\n      <td>blue</td>\n      <td>3fahp06z07r118828</td>\n      <td>167357820</td>\n      <td>oklahoma</td>\n      <td>usa</td>\n      <td>17 hours left</td>\n      <td>21666.888259</td>\n    </tr>\n    <tr>\n      <th>2497</th>\n      <td>18669.952862</td>\n      <td>chevrolet</td>\n      <td>pickup</td>\n      <td>2010</td>\n      <td>salvage insurance</td>\n      <td>149189.0</td>\n      <td>white</td>\n      <td>3gcrkse37ag234620</td>\n      <td>167650663</td>\n      <td>colorado</td>\n      <td>usa</td>\n      <td>17 hours left</td>\n      <td>18669.952862</td>\n    </tr>\n    <tr>\n      <th>2498</th>\n      <td>10657.380952</td>\n      <td>gmc</td>\n      <td>door</td>\n      <td>1993</td>\n      <td>salvage insurance</td>\n      <td>0.0</td>\n      <td>light blue</td>\n      <td>1gkfk16k5pj701631</td>\n      <td>167358601</td>\n      <td>colorado</td>\n      <td>usa</td>\n      <td>18 hours left</td>\n      <td>10657.380952</td>\n    </tr>\n  </tbody>\n</table>\n<p>2499 rows × 13 columns</p>\n</div>"
     },
     "execution_count": 106,
     "metadata": {},
     "output_type": "execute_result"
    }
   ],
   "source": [
    "# ------------------------------------------------------\n",
    "# CREATING A THIRD DF. df3 = df1 + df2\n",
    "# ------------------------------------------------------\n",
    "df3 = pd.concat([df1, df2], ignore_index=True)\n",
    "df3"
   ],
   "metadata": {
    "collapsed": false,
    "pycharm": {
     "name": "#%%\n"
    }
   }
  },
  {
   "cell_type": "markdown",
   "source": [
    "1.) FIXME: FIND THE OVERALL BREAKDOWN OF THE CAR BRANDS"
   ],
   "metadata": {
    "collapsed": false
   }
  },
  {
   "cell_type": "code",
   "execution_count": 107,
   "outputs": [
    {
     "data": {
      "text/plain": "ford               1235\ndodge               432\nnissan              312\nchevrolet           297\ngmc                  42\njeep                 30\nchrysler             18\nbmw                  17\nhyundai              15\nbuick                13\nkia                  13\ninfiniti             12\nhonda                12\ncadillac             10\nmercedes-benz        10\nheartland             5\npeterbilt             4\naudi                  4\nland                  4\nacura                 3\nlincoln               2\nmazda                 2\nlexus                 2\nharley-davidson       1\nmaserati              1\njaguar                1\ntoyota                1\nram                   1\nName: brand, dtype: int64"
     },
     "execution_count": 107,
     "metadata": {},
     "output_type": "execute_result"
    }
   ],
   "source": [
    "# -------------------------------------------------------------\n",
    "# CHECKING THE VALUE COUNTS BY BRAND\n",
    "# -------------------------------------------------------------\n",
    "df3['brand'].value_counts()"
   ],
   "metadata": {
    "collapsed": false,
    "pycharm": {
     "name": "#%%\n"
    }
   }
  },
  {
   "cell_type": "code",
   "execution_count": 108,
   "outputs": [
    {
     "data": {
      "text/plain": "<matplotlib.axes._axes.Axes at 0x126cb1050>"
     },
     "execution_count": 108,
     "metadata": {},
     "output_type": "execute_result"
    },
    {
     "data": {
      "text/plain": "<Figure size 864x360 with 1 Axes>",
      "image/png": "[encoded data removed]"
     },
     "metadata": {},
     "output_type": "display_data"
    }
   ],
   "source": [
    "# --------------------------------------------------\n",
    "# PLOTTING THE BREAKDOWN OF THE CARS SOLD BY BRAND\n",
    "# --------------------------------------------------\n",
    "# brand_counts = df3.groupby('brand')['brand'].count()\n",
    "# plt.pie(\n",
    "#     brand_counts,\n",
    "# )\n",
    "# plt.tight_layout()\n",
    "# plt.show()\n",
    "\n",
    "fig = plt.figure(figsize=(12,5))\n",
    "ax = fig.add_axes([0,0,1,1])\n",
    "sns.countplot(x='brand', data=df3, ax=ax)"
   ],
   "metadata": {
    "collapsed": false,
    "pycharm": {
     "name": "#%%\n"
    }
   }
  },
  {
   "cell_type": "markdown",
   "source": [
    "2.) FIND THE AVERAGE PRICE FOR EACH BRAND"
   ],
   "metadata": {
    "collapsed": false
   }
  },
  {
   "cell_type": "code",
   "execution_count": 109,
   "outputs": [
    {
     "data": {
      "text/plain": "2019    892\n2018    395\n2017    377\n2016    203\n2015    196\n2014    104\n2013     86\n2012     72\n2020     48\n2011     23\n2008     18\n2010     13\n2009     11\n2003      9\n2006      8\n2004      6\n2005      6\n2007      6\n2001      5\n2000      4\n1998      4\n1997      2\n2002      2\n1996      2\n1994      2\n1999      1\n1973      1\n1993      1\n1995      1\n1984      1\nName: year, dtype: int64"
     },
     "execution_count": 109,
     "metadata": {},
     "output_type": "execute_result"
    }
   ],
   "source": [
    "# ------------------------------\n",
    "# COUNT OF DATA POINTS BY YEAR\n",
    "# ------------------------------\n",
    "df3['year'].value_counts()"
   ],
   "metadata": {
    "collapsed": false,
    "pycharm": {
     "name": "#%%\n"
    }
   }
  },
  {
   "cell_type": "code",
   "execution_count": 110,
   "outputs": [
    {
     "data": {
      "text/plain": "<matplotlib.axes._axes.Axes at 0x1267c5f90>"
     },
     "execution_count": 110,
     "metadata": {},
     "output_type": "execute_result"
    },
    {
     "data": {
      "text/plain": "<Figure size 864x360 with 1 Axes>",
      "image/png": "[encoded data removed]"
     },
     "metadata": {},
     "output_type": "display_data"
    }
   ],
   "source": [
    "# --------------------------------------------------\n",
    "# PLOTTING THE BREAKDOWN OF THE CARS SOLD BY YEAR\n",
    "# --------------------------------------------------\n",
    "fig = plt.figure(figsize=(12,5))\n",
    "ax = fig.add_axes([0,0,1,1])\n",
    "sns.countplot(x='year', data=df3, ax=ax)\n"
   ],
   "metadata": {
    "collapsed": false,
    "pycharm": {
     "name": "#%%\n"
    }
   }
  },
  {
   "cell_type": "code",
   "execution_count": 112,
   "outputs": [
    {
     "data": {
      "text/plain": "     price      brand   model  year   title_status  mileage   color  \\\n2   5350.0      dodge     mpv  2018  clean vehicle  39590.0  silver   \n4  27700.0  chevrolet    1500  2018  clean vehicle   6654.0     red   \n5   5700.0      dodge     mpv  2018  clean vehicle  45561.0   white   \n7  13350.0        gmc    door  2017  clean vehicle  23525.0    gray   \n8  14600.0  chevrolet  malibu  2018  clean vehicle   9371.0  silver   \n\n                   vin        lot       state country      condition  \\\n2    3c4pdcgg5jt346413  167655728     georgia     usa    2 days left   \n4    3gcpcrec2jg473991  167763266     florida     usa  22 hours left   \n5    2c4rdgeg9jr237989  167655771       texas     usa    2 days left   \n7    1gks2gkc3hr326762  167692494  california     usa  20 hours left   \n8    1g1zd5st5jf191860  167763267     florida     usa  22 hours left   \n\n   average_price  \n2   17781.988426  \n4   18669.952862  \n5   17781.988426  \n7   10657.380952  \n8   18669.952862  ",
      "text/html": "<div>\n<style scoped>\n    .dataframe tbody tr th:only-of-type {\n        vertical-align: middle;\n    }\n\n    .dataframe tbody tr th {\n        vertical-align: top;\n    }\n\n    .dataframe thead th {\n        text-align: right;\n    }\n</style>\n<table border=\"1\" class=\"dataframe\">\n  <thead>\n    <tr style=\"text-align: right;\">\n      <th></th>\n      <th>price</th>\n      <th>brand</th>\n      <th>model</th>\n      <th>year</th>\n      <th>title_status</th>\n      <th>mileage</th>\n      <th>color</th>\n      <th>vin</th>\n      <th>lot</th>\n      <th>state</th>\n      <th>country</th>\n      <th>condition</th>\n      <th>average_price</th>\n    </tr>\n  </thead>\n  <tbody>\n    <tr>\n      <th>2</th>\n      <td>5350.0</td>\n      <td>dodge</td>\n      <td>mpv</td>\n      <td>2018</td>\n      <td>clean vehicle</td>\n      <td>39590.0</td>\n      <td>silver</td>\n      <td>3c4pdcgg5jt346413</td>\n      <td>167655728</td>\n      <td>georgia</td>\n      <td>usa</td>\n      <td>2 days left</td>\n      <td>17781.988426</td>\n    </tr>\n    <tr>\n      <th>4</th>\n      <td>27700.0</td>\n      <td>chevrolet</td>\n      <td>1500</td>\n      <td>2018</td>\n      <td>clean vehicle</td>\n      <td>6654.0</td>\n      <td>red</td>\n      <td>3gcpcrec2jg473991</td>\n      <td>167763266</td>\n      <td>florida</td>\n      <td>usa</td>\n      <td>22 hours left</td>\n      <td>18669.952862</td>\n    </tr>\n    <tr>\n      <th>5</th>\n      <td>5700.0</td>\n      <td>dodge</td>\n      <td>mpv</td>\n      <td>2018</td>\n      <td>clean vehicle</td>\n      <td>45561.0</td>\n      <td>white</td>\n      <td>2c4rdgeg9jr237989</td>\n      <td>167655771</td>\n      <td>texas</td>\n      <td>usa</td>\n      <td>2 days left</td>\n      <td>17781.988426</td>\n    </tr>\n    <tr>\n      <th>7</th>\n      <td>13350.0</td>\n      <td>gmc</td>\n      <td>door</td>\n      <td>2017</td>\n      <td>clean vehicle</td>\n      <td>23525.0</td>\n      <td>gray</td>\n      <td>1gks2gkc3hr326762</td>\n      <td>167692494</td>\n      <td>california</td>\n      <td>usa</td>\n      <td>20 hours left</td>\n      <td>10657.380952</td>\n    </tr>\n    <tr>\n      <th>8</th>\n      <td>14600.0</td>\n      <td>chevrolet</td>\n      <td>malibu</td>\n      <td>2018</td>\n      <td>clean vehicle</td>\n      <td>9371.0</td>\n      <td>silver</td>\n      <td>1g1zd5st5jf191860</td>\n      <td>167763267</td>\n      <td>florida</td>\n      <td>usa</td>\n      <td>22 hours left</td>\n      <td>18669.952862</td>\n    </tr>\n  </tbody>\n</table>\n</div>"
     },
     "execution_count": 112,
     "metadata": {},
     "output_type": "execute_result"
    }
   ],
   "source": [
    "# ---------------------------------------------\n",
    "# CREATING A NEW DF THAT ONLY CONTAINS DATA\n",
    "# FROM THE LAST 6 YEARS\n",
    "# ---------------------------------------------\n",
    "df4 = df3[np.logical_or.reduce([\n",
    "    df3['year']==2015,\n",
    "    df3['year']==2016,\n",
    "    df3['year']==2017,\n",
    "    df3['year']==2018,\n",
    "    df3['year']==2019,\n",
    "    df3['year']==2020]\n",
    ")]\n",
    "df4.head()"
   ],
   "metadata": {
    "collapsed": false,
    "pycharm": {
     "name": "#%%\n"
    }
   }
  }
 ],
 "metadata": {
  "kernelspec": {
   "display_name": "Python 3",
   "language": "python",
   "name": "python3"
  },
  "language_info": {
   "codemirror_mode": {
    "name": "ipython",
    "version": 2
   },
   "file_extension": ".py",
   "mimetype": "text/x-python",
   "name": "python",
   "nbconvert_exporter": "python",
   "pygments_lexer": "ipython2",
   "version": "2.7.6"
  }
 },
 "nbformat": 4,
 "nbformat_minor": 0
}