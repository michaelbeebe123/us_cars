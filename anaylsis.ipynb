{
 "cells": [
  {
   "cell_type": "markdown",
   "source": [
    "IMPORTING LIBRARIES\n",
    "---"
   ],
   "metadata": {
    "collapsed": false,
    "pycharm": {
     "name": "#%% md\n"
    }
   }
  },
  {
   "cell_type": "code",
   "execution_count": 210,
   "metadata": {
    "collapsed": true,
    "pycharm": {
     "name": "#%%\n"
    }
   },
   "outputs": [],
   "source": [
    "import pandas as pd\n",
    "import matplotlib.pyplot as plt\n",
    "import numpy as np\n",
    "import seaborn as sns\n",
    "plt.style.use('fivethirtyeight')\n",
    "\n",
    "from sklearn.preprocessing import LabelBinarizer"
   ]
  },
  {
   "cell_type": "markdown",
   "source": [
    "DATA EXPLORATION\n",
    "---"
   ],
   "metadata": {
    "collapsed": false,
    "pycharm": {
     "name": "#%% md\n"
    }
   }
  },
  {
   "cell_type": "code",
   "execution_count": 211,
   "outputs": [
    {
     "data": {
      "text/plain": "Unnamed: 0      0\nprice           0\nbrand           0\nmodel           0\nyear            0\ntitle_status    0\nmileage         0\ncolor           0\nvin             0\nlot             0\nstate           0\ncountry         0\ncondition       0\ndtype: int64"
     },
     "execution_count": 211,
     "metadata": {},
     "output_type": "execute_result"
    }
   ],
   "source": [
    "# --------------------\n",
    "# CREATING INITIAL DF\n",
    "# --------------------\n",
    "df = pd.read_csv('./input/USA_cars_datasets.csv')\n",
    "df.isnull().sum()"
   ],
   "metadata": {
    "collapsed": false,
    "pycharm": {
     "name": "#%%\n"
    }
   }
  },
  {
   "cell_type": "code",
   "execution_count": 212,
   "outputs": [
    {
     "name": "stdout",
     "output_type": "stream",
     "text": [
      "Unnamed: 0        int64\n",
      "price             int64\n",
      "brand            object\n",
      "model            object\n",
      "year              int64\n",
      "title_status     object\n",
      "mileage         float64\n",
      "color            object\n",
      "vin              object\n",
      "lot               int64\n",
      "state            object\n",
      "country          object\n",
      "condition        object\n",
      "dtype: object\n",
      "\n",
      "\n"
     ]
    },
    {
     "data": {
      "text/plain": "clean vehicle        2336\nsalvage insurance     163\nName: title_status, dtype: int64"
     },
     "execution_count": 212,
     "metadata": {},
     "output_type": "execute_result"
    }
   ],
   "source": [
    "# ------------------------\n",
    "# CHECKING OUT THE DATA\n",
    "# ------------------------\n",
    "print(df.dtypes)\n",
    "print('\\n')\n",
    "df.head()\n",
    "\n",
    "df['title_status'].value_counts()"
   ],
   "metadata": {
    "collapsed": false,
    "pycharm": {
     "name": "#%%\n"
    }
   }
  },
  {
   "cell_type": "markdown",
   "source": [
    "DATA WRANGLING\n",
    "---"
   ],
   "metadata": {
    "collapsed": false
   }
  },
  {
   "cell_type": "code",
   "execution_count": 213,
   "outputs": [
    {
     "data": {
      "text/plain": "0    2336\n1     163\ndtype: int64"
     },
     "execution_count": 213,
     "metadata": {},
     "output_type": "execute_result"
    }
   ],
   "source": [
    "# ---------------------------------------------\n",
    "# MORPHING CATEGORICAL STR COLUMNS TO BINARY\n",
    "# ---------------------------------------------\n",
    "ts = df['title_status']\n",
    "ts = ts.astype('category')\n",
    "ts = ts.cat.codes\n",
    "ts.value_counts()"
   ],
   "metadata": {
    "collapsed": false,
    "pycharm": {
     "name": "#%%\n"
    }
   }
  },
  {
   "cell_type": "code",
   "execution_count": 214,
   "outputs": [],
   "source": [
    "# ---------------------------------------------\n",
    "# GETTING RID OF THE UNNECESSARY STRING STR IN\n",
    "# CONDITION COLUMN AND CHANGING COLUMN TO INT\n",
    "# ---------------------------------------------\n",
    "\n"
   ],
   "metadata": {
    "collapsed": false,
    "pycharm": {
     "name": "#%%\n"
    }
   }
  }
 ],
 "metadata": {
  "kernelspec": {
   "display_name": "Python 3",
   "language": "python",
   "name": "python3"
  },
  "language_info": {
   "codemirror_mode": {
    "name": "ipython",
    "version": 2
   },
   "file_extension": ".py",
   "mimetype": "text/x-python",
   "name": "python",
   "nbconvert_exporter": "python",
   "pygments_lexer": "ipython2",
   "version": "2.7.6"
  }
 },
 "nbformat": 4,
 "nbformat_minor": 0
}